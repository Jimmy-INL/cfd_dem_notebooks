{
 "cells": [
  {
   "cell_type": "markdown",
   "metadata": {},
   "source": [
    "# Setting relevant contact parameters in DEM simulations"
   ]
  },
  {
   "cell_type": "markdown",
   "metadata": {},
   "source": [
    "## I. Case of two spherical particles"
   ]
  },
  {
   "cell_type": "markdown",
   "metadata": {},
   "source": [
    "### a. Model definiton\n",
    "\n",
    "In DEM simulations, the forces and torques are assessed from contact laws. In our case, and following the foundation paper of Cundall & Strack [1], we adopt a Linear Spring-Dashpot Model (LSD):\n",
    "\n",
    "![LSDmodel](https://encrypted-tbn0.gstatic.com/images?q=tbn:ANd9GcTc2rXAwpiaUpF4_jcB75bRQG9ndg-TupcLWDJBapgisn1BotCK-A)\n",
    "\n",
    "Let us quickly write the forces experienced by two colliding particles of mass $m_i$ amd $m_j$ respectively, and radius $R_i$ and $R_j$ respectively:\n",
    "\n",
    "$$F_n = k_n \\delta_n - \\gamma_n \\frac{\\partial \\delta_n}{\\partial t} $$\n",
    "\n",
    "$$F_t = k_t \\int_{t_0}^{t} \\delta_t(s) ds - \\gamma_t \\frac{\\partial \\delta_t}{\\partial t} $$\n",
    "\n",
    "where we have called the normal force $F_n$, the normal spring stiffness $k_n$, and normal damping coefficient $\\gamma_n$; and where we have denoted their tangential counterpart $F_t$, $k_t$ and $\\gamma_t$, and the sliding coefficient $\\mu_c$.\n",
    "\n",
    "That is a lot of parameters $-$ in only the translational model, brace yoursel for the rotational one! $-$ and we now have the difficult task to set meaningful values to all of those coefficient."
   ]
  },
  {
   "cell_type": "markdown",
   "metadata": {},
   "source": [
    "### b. Where difficulties arise\n",
    "\n",
    "From Hooke's law and [Hertz theory](https://en.wikipedia.org/wiki/Contact_mechanics#Classical_solutions_for_non-adhesive_elastic_contact), and following [2] (eq. 43), we can relate some particle properties to the contact model parameters:\n",
    "\n",
    "$$k_n = \\frac{4}{3} \\frac{E_i E_j}{E_i(1-\\sigma_j^2) + E_j(1-\\sigma_i^2)} R_{eff}$$\n",
    "\n",
    "or, for two particles of the same material:\n",
    "\n",
    "$$k_n = \\frac{2ER_{eff}}{3(1-\\sigma^2)}$$\n",
    "\n",
    "where $R_{eff}=\\frac{R_i R_j}{R_i +R_j}$ is the effective radius, $E_i$ is the Young's modulus of the material $i$ and $\\sigma_i$ its Poisson ratio.\n",
    "\n",
    "---\n",
    "\n",
    "Now, for two spheres of the same radius $R$ colliding at the relative velocity $v_0$, it is not difficult to show that $e_n = e^{- \\gamma_n \\frac{\\pi}{\\sqrt{\\omega_0^2 - \\gamma_n^2}}}$ where $\\gamma_n$ is the normal dynamic friction coefficient, $e_n$ is the normal restitution coefficient and $\\omega_0=\\frac{2 k_n}{M}$ is the resonance pulsation of the system, with $M$ being the mass of each sphere. We could also express the latter in terms of $\\gamma_n$:\n",
    "$$\\gamma_n = -\\frac{\\omega_0 ln(e_n)}{\\sqrt{\\pi^2 + (ln(e_n))^2}}$$\n",
    "\n",
    "Unfortunately, setting $k_n$ to its physical value implies that $\\Delta t$ is ridiculously small ($\\Delta t \\approx 10^{-9}$ s), and performing reliable DEM simulations can seem out of reach at first. However, it has been shown [2,3] that the normal stiffness $k_n$ does not play a significant role in the overall dynamics of the system, and that decreasing its value by two to four orders of magnitudes $-$ depending on the system $-$ can be safely performed."
   ]
  },
  {
   "cell_type": "markdown",
   "metadata": {},
   "source": [
    "### c. Routine to set reasonable parameters\n",
    "\n"
   ]
  },
  {
   "cell_type": "code",
   "execution_count": null,
   "metadata": {},
   "outputs": [],
   "source": []
  },
  {
   "cell_type": "code",
   "execution_count": null,
   "metadata": {},
   "outputs": [],
   "source": []
  },
  {
   "cell_type": "markdown",
   "metadata": {},
   "source": [
    "References:\n",
    "\n",
    "[1] Cundall & Strack\n",
    "\n",
    "[2] Dviugys & Peters\n",
    "\n",
    "\n",
    "[1] [Wachs et al., Grains3D, a flexible DEM approach for particles of arbitrary convex shape — Part I: Numerical model and validations, Powder Technology, 2012.](https://www.sciencedirect.com/science/article/pii/S003259101200191X)\n",
    "\n",
    "[2] [Yan & Wilkinson, Discrete element modelling (DEM) input parameters: understanding their impact on model predictions using statistical analysis, Computational Particle Mechanics, 2015](https://link.springer.com/article/10.1007/s40571-015-0056-5)\n",
    "\n",
    "[3] [Cleary, DEM prediction of industrial and geophysical particle flows, Particuology, 2010](https://reader.elsevier.com/reader/sd/pii/S1674200109001308?token=D4745DC00931B53EDA4D83481B70210DF641BBA578B8A1F658ADE8D0A36973394D90F43D2C791309AB5AF0DFD4F20505)"
   ]
  },
  {
   "cell_type": "code",
   "execution_count": null,
   "metadata": {},
   "outputs": [],
   "source": []
  }
 ],
 "metadata": {
  "kernelspec": {
   "display_name": "Python 3",
   "language": "python",
   "name": "python3"
  },
  "language_info": {
   "codemirror_mode": {
    "name": "ipython",
    "version": 3
   },
   "file_extension": ".py",
   "mimetype": "text/x-python",
   "name": "python",
   "nbconvert_exporter": "python",
   "pygments_lexer": "ipython3",
   "version": "3.4.10"
  }
 },
 "nbformat": 4,
 "nbformat_minor": 2
}
