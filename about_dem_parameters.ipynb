{
 "cells": [
  {
   "cell_type": "markdown",
   "metadata": {},
   "source": [
    "# Setting relevant contact parameters in DEM simulations"
   ]
  },
  {
   "cell_type": "markdown",
   "metadata": {},
   "source": [
    "## I. Case of two spherical particles\n",
    "\n",
    "From Hooke's law and Hertz theory, and following [1], we can relate some particles properties to the contact model parameters:"
   ]
  },
  {
   "cell_type": "markdown",
   "metadata": {},
   "source": [
    "$$k_n = \\frac{ER}{3(1-\\sigma^2)}$$\n",
    "where $R$ is the radius of the sphere, $E$ is the Young's modulus of the material and $\\sigma$ its Poisson ratio.\n",
    "Now, for two spheres of the same radius $R$ colliding at the relative velocity $v_0$, it is not difficult to show that $e_n = e^{- \\gamma_n \\frac{\\pi}{\\sqrt{\\omega_0^2 - \\gamma_n^2}}}$ where $\\gamma_n$ is the normal dynamic friction coefficient, $e_n$ is the normal restitution coefficient and $\\omega_0=\\frac{2 k_n}{M}$ is the resonance pulsation of the system, with $M$ being the mass of each sphere. We could also express the latter in terms of $\\gamma_n$:\n",
    "$$\\gamma_n = -\\frac{\\omega_0 ln(e_n)}{\\sqrt{\\pi^2 + (ln(e_n))^2}}$$\n",
    "\n",
    "Unfortunately, setting $k_n$ to its physical value implies that $\\Delta t$ is ridiculously small ($\\Delta t \\approx 10^{-9}$ s), and performing reliable DEM simulations can seem out of reach at first. However, it has been shown [2,3] that the normal stiffness $k_n$ does not play a significant role in the overall dynamics of the system, and that decreasing its value by two to four orders of magnitudes $-$ depending on the system $-$ can be safely performed."
   ]
  },
  {
   "cell_type": "code",
   "execution_count": null,
   "metadata": {},
   "outputs": [],
   "source": []
  },
  {
   "cell_type": "code",
   "execution_count": null,
   "metadata": {},
   "outputs": [],
   "source": []
  },
  {
   "cell_type": "code",
   "execution_count": null,
   "metadata": {},
   "outputs": [],
   "source": []
  },
  {
   "cell_type": "markdown",
   "metadata": {},
   "source": [
    "References:\n",
    "\n",
    "[1] [Wachs et al., Grains3D, a flexible DEM approach for particles of arbitrary convex shape — Part I: Numerical model and validations, Powder Technology, 2012.](https://www.sciencedirect.com/science/article/pii/S003259101200191X)\n",
    "\n",
    "[2] [Yan & Wilkinson, Discrete element modelling (DEM) input parameters: understanding their impact on model predictions using statistical analysis, Computational Particle Mechanics, 2015](https://link.springer.com/article/10.1007/s40571-015-0056-5)\n",
    "\n",
    "[3] [Cleary, DEM prediction of industrial and geophysical particle flows, Particuology, 2010](https://reader.elsevier.com/reader/sd/pii/S1674200109001308?token=D4745DC00931B53EDA4D83481B70210DF641BBA578B8A1F658ADE8D0A36973394D90F43D2C791309AB5AF0DFD4F20505)"
   ]
  }
 ],
 "metadata": {
  "kernelspec": {
   "display_name": "Python 3",
   "language": "python",
   "name": "python3"
  },
  "language_info": {
   "codemirror_mode": {
    "name": "ipython",
    "version": 3
   },
   "file_extension": ".py",
   "mimetype": "text/x-python",
   "name": "python",
   "nbconvert_exporter": "python",
   "pygments_lexer": "ipython3",
   "version": "3.4.10"
  }
 },
 "nbformat": 4,
 "nbformat_minor": 2
}
